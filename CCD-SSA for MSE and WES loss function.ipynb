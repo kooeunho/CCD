{
 "cells": [
  {
   "cell_type": "code",
   "execution_count": null,
   "id": "4335584e",
   "metadata": {},
   "outputs": [],
   "source": [
    "import numpy as np\n",
    "import tensorflow as tf\n",
    "%matplotlib inline\n",
    "import os\n",
    "import function as fn\n",
    "\n",
    "# GPU\n",
    "os.environ[\"CUDA_VISIBLE_DEVICES\"] = '0'\n",
    "config = tf.ConfigProto()\n",
    "config.gpu_options.allow_growth = True\n",
    "session = tf.Session( config=config )\n",
    "\n",
    "start = time.time()\n",
    "data_tem = np.loadtxt('../v_ssa.txt')\n",
    "Data = [data_tem[17730*9*i:17730*9*(i+1)] for i in range(10)]\n",
    "label_tem = np.loadtxt('bitcoin_data.txt')[1:]\n",
    "Label = [ fn.weist(label_tem, 0.1*(i+1)) for i in range(9) ]\n",
    "\n",
    "depth      = 5 # LSTM depth\n",
    "hidden_dim = 22 # hidden dimension of LSTM\n",
    "howmany    = 100 # number of experiments\n",
    "ratio      = 0.7 # training data set ratio\n",
    "lr1, lr2   = 0.01, 0.0001 # Starting and ending rate of Exponential decreasing learning rate\n",
    "batch_size = 512\n",
    "epochs     = 1700\n",
    "bandwidth = 0.015 # Parameter in Kernel density Estimation of WES loss function\n",
    "\n",
    "loss_f = 0 # 0 if MSE loss function, 1 if WES loss function\n",
    "predict = [] # Prediction of the CCD-SSA for MSE loss function\n",
    "\n",
    "for wsize in range(10):\n",
    "    for factor in range(9):\n",
    "        data = Data[wsize][17730*factor:17730*(factor+1)]\n",
    "        label = Label[factor]\n",
    "        error_f = fn.error_factor(label, fn.kde_pdf(fn.gaussian_pdf, label, bandwidth), label, 3, loss_f)\n",
    "\n",
    "        for how in range(howmany):   \n",
    "            trainX, trainY, testX, testY = fn.split_LSTM(data, label, depth, ratio)\n",
    "            pred = fn.LSTM(trainX, trainY, testX, testY, depth, hidden_dim, lr1, lr2, batch_size, epochs, error_f)\n",
    "            predict.append(pred)\n",
    "            \n",
    "loss_f = 1 # 0 if MSE loss function, 1 if WES loss function\n",
    "predict = [] # Prediction of the CCD-SSA for WES loss function\n",
    "\n",
    "for wsize in range(10):\n",
    "    for factor in range(9):\n",
    "        data = Data[wsize][17730*factor:17730*(factor+1)]\n",
    "        label = Label[factor]\n",
    "        error_f = fn.error_factor(label, fn.kde_pdf(fn.gaussian_pdf, label, bandwidth), label, 3, loss_f)\n",
    "\n",
    "        for how in range(howmany):   \n",
    "            trainX, trainY, testX, testY = fn.split_LSTM(data, label, depth, ratio)\n",
    "            pred = fn.LSTM(trainX, trainY, testX, testY, depth, hidden_dim, lr1, lr2, batch_size, epochs, error_f)\n",
    "            predict.append(pred) "
   ]
  }
 ],
 "metadata": {
  "kernelspec": {
   "display_name": "Python 3 (ipykernel)",
   "language": "python",
   "name": "python3"
  },
  "language_info": {
   "codemirror_mode": {
    "name": "ipython",
    "version": 3
   },
   "file_extension": ".py",
   "mimetype": "text/x-python",
   "name": "python",
   "nbconvert_exporter": "python",
   "pygments_lexer": "ipython3",
   "version": "3.9.12"
  }
 },
 "nbformat": 4,
 "nbformat_minor": 5
}
